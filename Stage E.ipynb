{
 "cells": [
  {
   "cell_type": "markdown",
   "id": "a1827467-5a32-406b-8517-a0a0bccd2d76",
   "metadata": {
    "jp-MarkdownHeadingCollapsed": true,
    "tags": []
   },
   "source": [
    "### Project:\n",
    "\n",
    "Amazon is a popular e-commerce platform where books are sold. Unravel what types of books were bought frequently, between 2009 and 2019. To find this, juxtapose between the number of books displayed for sale, and the types of books bought frequently by consumers"
   ]
  },
  {
   "cell_type": "markdown",
   "id": "ffd3bdbe-2cf3-43db-8efe-c70307faaaae",
   "metadata": {},
   "source": [
    "### Solution:\n",
    "\n",
    "We have to scrap the data from the website since the dataset wasn't provided for the project already. This will be done using Python Libraries\n",
    "Link to website: https://www.amazon.com/s?k=amazon+shopping+online&rh=n%3A283155&dc&adgrpid=84486094307&gclid=CjwKCAjwwab7BRBAEiwAapqpTDYtTN8aym2q_rlYn1VdmofKw0_bzkd6xjaCl8cMY4syjbPZMKNMjxoCLIYQAvD_BwE&hvadid=393524136919&hvdev=c&hvlocphy=1010294&hvnetw=g&hvqmt=b&hvrand=2170543926145783317&hvtargid=kwd-469356929&hydadcr=22365_10729094&qid=1600780278&rnid=2941120011&tag=hydglogoo-20&ref=sr_nr_n_10"
   ]
  },
  {
   "cell_type": "markdown",
   "id": "a3a320f8-fbb8-4b60-9f0f-dbea16d781db",
   "metadata": {},
   "source": [
    "### Importing libraries"
   ]
  },
  {
   "cell_type": "code",
   "execution_count": 75,
   "id": "9fc8855e-5240-4646-ba08-75e0e23b5d62",
   "metadata": {},
   "outputs": [],
   "source": [
    "import pandas as pd\n",
    "import numpy as np\n",
    "import matplotlib.pyplot as plt\n",
    "from bs4 import BeautifulSoup\n",
    "import seaborn as sns\n",
    "import csv\n",
    "import requests\n",
    "from selenium import webdriver\n",
    "%matplotlib inline"
   ]
  },
  {
   "cell_type": "markdown",
   "id": "633b156a-c30f-46f5-93c3-b9e136d149fe",
   "metadata": {},
   "source": [
    "### Start the webdriver"
   ]
  },
  {
   "cell_type": "code",
   "execution_count": 2,
   "id": "c6cd4c08-baf6-43bb-b9cc-daec1af4eb11",
   "metadata": {},
   "outputs": [
    {
     "name": "stderr",
     "output_type": "stream",
     "text": [
      "C:\\Users\\agyei\\AppData\\Local\\Temp\\ipykernel_9508\\3417129209.py:1: DeprecationWarning: executable_path has been deprecated, please pass in a Service object\n",
      "  driver = webdriver.Chrome(executable_path=r\"C:/Users/agyei/Downloads/chromedriver.exe\")\n"
     ]
    }
   ],
   "source": [
    "driver = webdriver.Chrome(executable_path=r\"C:/Users/agyei/Downloads/chromedriver.exe\")"
   ]
  },
  {
   "cell_type": "markdown",
   "id": "ba042703-049a-4391-8d26-79855d2e978e",
   "metadata": {},
   "source": [
    "### Retrieving Bestsellers from 2009 to 2019"
   ]
  },
  {
   "cell_type": "code",
   "execution_count": 3,
   "id": "25f91cc5-c57a-4b8d-a523-7bdce2884d01",
   "metadata": {},
   "outputs": [],
   "source": [
    "# base url for web scraping\n",
    "url_start = 'https://www.amazon.com/gp/bestsellers/{}/books/ref=zg_bsar_cal_ye'"
   ]
  },
  {
   "cell_type": "code",
   "execution_count": 4,
   "id": "7a4549ff-1d2f-46a8-8922-ccb36758b5b1",
   "metadata": {},
   "outputs": [],
   "source": [
    "# years under review\n",
    "years = list(range(2009,2020))"
   ]
  },
  {
   "cell_type": "code",
   "execution_count": 10,
   "id": "8dc3e06d-a1cb-4294-a11b-83074a5519cd",
   "metadata": {
    "collapsed": true,
    "jupyter": {
     "outputs_hidden": true
    },
    "tags": []
   },
   "outputs": [
    {
     "ename": "WebDriverException",
     "evalue": "Message: unknown error: net::ERR_NAME_NOT_RESOLVED\n  (Session info: chrome=109.0.5414.120)\nStacktrace:\nBacktrace:\n\t(No symbol) [0x0096F243]\n\t(No symbol) [0x008F7FD1]\n\t(No symbol) [0x007ED04D]\n\t(No symbol) [0x007E9152]\n\t(No symbol) [0x007E044D]\n\t(No symbol) [0x007E12EF]\n\t(No symbol) [0x007E071D]\n\t(No symbol) [0x007DFB0B]\n\t(No symbol) [0x007DFA5C]\n\t(No symbol) [0x007DE7E8]\n\t(No symbol) [0x007DEDC2]\n\t(No symbol) [0x007EEA5B]\n\t(No symbol) [0x0084D187]\n\t(No symbol) [0x0083858C]\n\t(No symbol) [0x0084C9EB]\n\t(No symbol) [0x00838386]\n\t(No symbol) [0x0081163C]\n\t(No symbol) [0x0081269D]\n\tGetHandleVerifier [0x00C09A22+2655074]\n\tGetHandleVerifier [0x00BFCA24+2601828]\n\tGetHandleVerifier [0x00A18C0A+619850]\n\tGetHandleVerifier [0x00A17830+614768]\n\t(No symbol) [0x009005FC]\n\t(No symbol) [0x00905968]\n\t(No symbol) [0x00905A55]\n\t(No symbol) [0x0091051B]\n\tBaseThreadInitThunk [0x761A7D69+25]\n\tRtlInitializeExceptionChain [0x7781BB9B+107]\n\tRtlClearBits [0x7781BB1F+191]\n",
     "output_type": "error",
     "traceback": [
      "\u001b[1;31m---------------------------------------------------------------------------\u001b[0m",
      "\u001b[1;31mWebDriverException\u001b[0m                        Traceback (most recent call last)",
      "Input \u001b[1;32mIn [10]\u001b[0m, in \u001b[0;36m<cell line: 2>\u001b[1;34m()\u001b[0m\n\u001b[0;32m      2\u001b[0m \u001b[38;5;28;01mfor\u001b[39;00m year \u001b[38;5;129;01min\u001b[39;00m years:\n\u001b[0;32m      3\u001b[0m     url \u001b[38;5;241m=\u001b[39m url_start\u001b[38;5;241m.\u001b[39mformat(year)\n\u001b[1;32m----> 4\u001b[0m     \u001b[43mdriver\u001b[49m\u001b[38;5;241;43m.\u001b[39;49m\u001b[43mget\u001b[49m\u001b[43m(\u001b[49m\u001b[43murl\u001b[49m\u001b[43m)\u001b[49m\n\u001b[0;32m      5\u001b[0m     soup \u001b[38;5;241m=\u001b[39m BeautifulSoup(driver\u001b[38;5;241m.\u001b[39mpage_source, \u001b[38;5;124m'\u001b[39m\u001b[38;5;124mhtml.parser\u001b[39m\u001b[38;5;124m'\u001b[39m)\n\u001b[0;32m      6\u001b[0m     results \u001b[38;5;241m=\u001b[39m soup\u001b[38;5;241m.\u001b[39mfind_all(\u001b[38;5;124m'\u001b[39m\u001b[38;5;124mdiv\u001b[39m\u001b[38;5;124m'\u001b[39m, {\u001b[38;5;124m'\u001b[39m\u001b[38;5;124mdata-a-card-type\u001b[39m\u001b[38;5;124m'\u001b[39m: \u001b[38;5;124m'\u001b[39m\u001b[38;5;124mbasic\u001b[39m\u001b[38;5;124m'\u001b[39m})\n",
      "File \u001b[1;32mC:\\Python310\\lib\\site-packages\\selenium\\webdriver\\remote\\webdriver.py:449\u001b[0m, in \u001b[0;36mWebDriver.get\u001b[1;34m(self, url)\u001b[0m\n\u001b[0;32m    447\u001b[0m \u001b[38;5;28;01mdef\u001b[39;00m \u001b[38;5;21mget\u001b[39m(\u001b[38;5;28mself\u001b[39m, url: \u001b[38;5;28mstr\u001b[39m) \u001b[38;5;241m-\u001b[39m\u001b[38;5;241m>\u001b[39m \u001b[38;5;28;01mNone\u001b[39;00m:\n\u001b[0;32m    448\u001b[0m     \u001b[38;5;124;03m\"\"\"Loads a web page in the current browser session.\"\"\"\u001b[39;00m\n\u001b[1;32m--> 449\u001b[0m     \u001b[38;5;28;43mself\u001b[39;49m\u001b[38;5;241;43m.\u001b[39;49m\u001b[43mexecute\u001b[49m\u001b[43m(\u001b[49m\u001b[43mCommand\u001b[49m\u001b[38;5;241;43m.\u001b[39;49m\u001b[43mGET\u001b[49m\u001b[43m,\u001b[49m\u001b[43m \u001b[49m\u001b[43m{\u001b[49m\u001b[38;5;124;43m\"\u001b[39;49m\u001b[38;5;124;43murl\u001b[39;49m\u001b[38;5;124;43m\"\u001b[39;49m\u001b[43m:\u001b[49m\u001b[43m \u001b[49m\u001b[43murl\u001b[49m\u001b[43m}\u001b[49m\u001b[43m)\u001b[49m\n",
      "File \u001b[1;32mC:\\Python310\\lib\\site-packages\\selenium\\webdriver\\remote\\webdriver.py:440\u001b[0m, in \u001b[0;36mWebDriver.execute\u001b[1;34m(self, driver_command, params)\u001b[0m\n\u001b[0;32m    438\u001b[0m response \u001b[38;5;241m=\u001b[39m \u001b[38;5;28mself\u001b[39m\u001b[38;5;241m.\u001b[39mcommand_executor\u001b[38;5;241m.\u001b[39mexecute(driver_command, params)\n\u001b[0;32m    439\u001b[0m \u001b[38;5;28;01mif\u001b[39;00m response:\n\u001b[1;32m--> 440\u001b[0m     \u001b[38;5;28;43mself\u001b[39;49m\u001b[38;5;241;43m.\u001b[39;49m\u001b[43merror_handler\u001b[49m\u001b[38;5;241;43m.\u001b[39;49m\u001b[43mcheck_response\u001b[49m\u001b[43m(\u001b[49m\u001b[43mresponse\u001b[49m\u001b[43m)\u001b[49m\n\u001b[0;32m    441\u001b[0m     response[\u001b[38;5;124m\"\u001b[39m\u001b[38;5;124mvalue\u001b[39m\u001b[38;5;124m\"\u001b[39m] \u001b[38;5;241m=\u001b[39m \u001b[38;5;28mself\u001b[39m\u001b[38;5;241m.\u001b[39m_unwrap_value(response\u001b[38;5;241m.\u001b[39mget(\u001b[38;5;124m\"\u001b[39m\u001b[38;5;124mvalue\u001b[39m\u001b[38;5;124m\"\u001b[39m, \u001b[38;5;28;01mNone\u001b[39;00m))\n\u001b[0;32m    442\u001b[0m     \u001b[38;5;28;01mreturn\u001b[39;00m response\n",
      "File \u001b[1;32mC:\\Python310\\lib\\site-packages\\selenium\\webdriver\\remote\\errorhandler.py:245\u001b[0m, in \u001b[0;36mErrorHandler.check_response\u001b[1;34m(self, response)\u001b[0m\n\u001b[0;32m    243\u001b[0m         alert_text \u001b[38;5;241m=\u001b[39m value[\u001b[38;5;124m\"\u001b[39m\u001b[38;5;124malert\u001b[39m\u001b[38;5;124m\"\u001b[39m]\u001b[38;5;241m.\u001b[39mget(\u001b[38;5;124m\"\u001b[39m\u001b[38;5;124mtext\u001b[39m\u001b[38;5;124m\"\u001b[39m)\n\u001b[0;32m    244\u001b[0m     \u001b[38;5;28;01mraise\u001b[39;00m exception_class(message, screen, stacktrace, alert_text)  \u001b[38;5;66;03m# type: ignore[call-arg]  # mypy is not smart enough here\u001b[39;00m\n\u001b[1;32m--> 245\u001b[0m \u001b[38;5;28;01mraise\u001b[39;00m exception_class(message, screen, stacktrace)\n",
      "\u001b[1;31mWebDriverException\u001b[0m: Message: unknown error: net::ERR_NAME_NOT_RESOLVED\n  (Session info: chrome=109.0.5414.120)\nStacktrace:\nBacktrace:\n\t(No symbol) [0x0096F243]\n\t(No symbol) [0x008F7FD1]\n\t(No symbol) [0x007ED04D]\n\t(No symbol) [0x007E9152]\n\t(No symbol) [0x007E044D]\n\t(No symbol) [0x007E12EF]\n\t(No symbol) [0x007E071D]\n\t(No symbol) [0x007DFB0B]\n\t(No symbol) [0x007DFA5C]\n\t(No symbol) [0x007DE7E8]\n\t(No symbol) [0x007DEDC2]\n\t(No symbol) [0x007EEA5B]\n\t(No symbol) [0x0084D187]\n\t(No symbol) [0x0083858C]\n\t(No symbol) [0x0084C9EB]\n\t(No symbol) [0x00838386]\n\t(No symbol) [0x0081163C]\n\t(No symbol) [0x0081269D]\n\tGetHandleVerifier [0x00C09A22+2655074]\n\tGetHandleVerifier [0x00BFCA24+2601828]\n\tGetHandleVerifier [0x00A18C0A+619850]\n\tGetHandleVerifier [0x00A17830+614768]\n\t(No symbol) [0x009005FC]\n\t(No symbol) [0x00905968]\n\t(No symbol) [0x00905A55]\n\t(No symbol) [0x0091051B]\n\tBaseThreadInitThunk [0x761A7D69+25]\n\tRtlInitializeExceptionChain [0x7781BB9B+107]\n\tRtlClearBits [0x7781BB1F+191]\n"
     ]
    }
   ],
   "source": [
    "# extracting info for each year\n",
    "for year in years:\n",
    "    url = url_start.format(year)\n",
    "    driver.get(url)\n",
    "    soup = BeautifulSoup(driver.page_source, 'html.parser')\n",
    "    results = soup.find_all('div', {'data-a-card-type': 'basic'})\n",
    "    \n",
    "    # extracting info per year\n",
    "    def extract_info(item):\n",
    "        try:\n",
    "            #description \n",
    "            atag =item.span\n",
    "            description = atag.text.strip()\n",
    "            title = item.find('div', {'class':'_cDEzb_p13n-sc-css-line-clamp-1_1Fn1y'}).text    \n",
    "            author = item.find('div', 'a-row a-size-small').text\n",
    "        except AttributeError:\n",
    "            description = ''\n",
    "            title = ''\n",
    "            atag = ''\n",
    "            author = ''\n",
    "        try: \n",
    "            #price\n",
    "            price_parent = item.find('span', 'a-size-base a-color-price')\n",
    "            price = price_parent.find('span', '_cDEzb_p13n-sc-price_3mJ9Z').text.replace('$','').strip()\n",
    "        except AttributeError:\n",
    "            price = ''\n",
    "            \n",
    "        try:\n",
    "            #rank and rating\n",
    "            rating= item.i.text\n",
    "            review_count = item.find('span', {'class': 'a-size-small'}).text\n",
    "        except AttributeError:\n",
    "            rating = ''\n",
    "            review_count = ''\n",
    "\n",
    "        #cover\n",
    "        cover = item.find('span', 'a-size-small a-color-secondary a-text-normal').text       \n",
    "\n",
    "        result = (description, title , author, price, rating, review_count, cover)\n",
    "\n",
    "        return result\n",
    "    \n",
    "    # saving extracted info to csv\n",
    "    records = []\n",
    "    results = soup.find_all('div', {'data-a-card-type': 'basic'})\n",
    "    \n",
    "    for item in results:\n",
    "        records.append(extract_info(item))\n",
    "\n",
    "        with open('results{}.csv'.format(year), 'w', newline='', encoding='utf-8') as f:\n",
    "            writer = csv.writer(f)\n",
    "            writer.writerow(['Description', 'Title', 'Author', 'Price', 'Rating', 'ReviewCount', 'Cover'])\n",
    "            writer.writerows(records)"
   ]
  },
  {
   "cell_type": "markdown",
   "id": "542efce1-2d09-4846-a64a-2c65dd22109e",
   "metadata": {},
   "source": [
    "### "
   ]
  },
  {
   "cell_type": "markdown",
   "id": "4c57e727-ef19-4efc-ae9e-7265d071e2a7",
   "metadata": {},
   "source": [
    "### Exploratory Data Analysis"
   ]
  },
  {
   "cell_type": "code",
   "execution_count": 50,
   "id": "5c44eb30-709c-44b1-9870-665cb294c0ef",
   "metadata": {},
   "outputs": [],
   "source": [
    "combined_data = pd.DataFrame()\n",
    "for year in years:\n",
    "    df = pd.read_csv('results{}.csv'.format(year))\n",
    "    \n",
    "    #   add year column to data\n",
    "    df['Year'] = year\n",
    "    \n",
    "    #     dropping first row of each year\n",
    "    df.drop(labels = 'Description', axis = 1, inplace = True)\n",
    "    df.drop(index = 0, axis = 0, inplace = True)\n",
    "    \n",
    "    \n",
    "    #   combine all data into one dataframe\n",
    "    combined_data = pd.concat([combined_data, df]) "
   ]
  },
  {
   "cell_type": "code",
   "execution_count": 65,
   "id": "39120c1c-268c-43cd-bd9f-bc0fea3a63a0",
   "metadata": {},
   "outputs": [],
   "source": [
    "# reset index\n",
    "combined_data.reset_index(inplace = True)"
   ]
  },
  {
   "cell_type": "code",
   "execution_count": 66,
   "id": "bd691cbe-ba23-40ea-aecd-337cc40f4011",
   "metadata": {},
   "outputs": [],
   "source": [
    "# dropping index column\n",
    "combined_data.drop(labels = 'index', axis = 1, inplace = True)"
   ]
  },
  {
   "cell_type": "code",
   "execution_count": 70,
   "id": "13a0b532-f220-423d-bb70-49cc2314d628",
   "metadata": {},
   "outputs": [],
   "source": [
    "# renaming price column\n",
    "combined_data = combined_data.rename(columns = {'Price' : 'Price($)'})"
   ]
  },
  {
   "cell_type": "code",
   "execution_count": 71,
   "id": "c505b129-4922-48b7-a8ea-3505fc3b3279",
   "metadata": {},
   "outputs": [
    {
     "data": {
      "text/html": [
       "<div>\n",
       "<style scoped>\n",
       "    .dataframe tbody tr th:only-of-type {\n",
       "        vertical-align: middle;\n",
       "    }\n",
       "\n",
       "    .dataframe tbody tr th {\n",
       "        vertical-align: top;\n",
       "    }\n",
       "\n",
       "    .dataframe thead th {\n",
       "        text-align: right;\n",
       "    }\n",
       "</style>\n",
       "<table border=\"1\" class=\"dataframe\">\n",
       "  <thead>\n",
       "    <tr style=\"text-align: right;\">\n",
       "      <th></th>\n",
       "      <th>Title</th>\n",
       "      <th>Author</th>\n",
       "      <th>Price($)</th>\n",
       "      <th>Rating</th>\n",
       "      <th>ReviewCount</th>\n",
       "      <th>Cover</th>\n",
       "      <th>Year</th>\n",
       "    </tr>\n",
       "  </thead>\n",
       "  <tbody>\n",
       "    <tr>\n",
       "      <th>0</th>\n",
       "      <td>The Lost Symbol</td>\n",
       "      <td>Dan Brown</td>\n",
       "      <td>14.20</td>\n",
       "      <td>4.4 out of 5 stars</td>\n",
       "      <td>17,092</td>\n",
       "      <td>Hardcover</td>\n",
       "      <td>2009</td>\n",
       "    </tr>\n",
       "    <tr>\n",
       "      <th>1</th>\n",
       "      <td>The Shack: Where Tragedy Confronts Eternity</td>\n",
       "      <td>William P. Young</td>\n",
       "      <td>10.43</td>\n",
       "      <td>4.7 out of 5 stars</td>\n",
       "      <td>23,923</td>\n",
       "      <td>Paperback</td>\n",
       "      <td>2009</td>\n",
       "    </tr>\n",
       "    <tr>\n",
       "      <th>2</th>\n",
       "      <td>Liberty and Tyranny: A Conservative Manifesto</td>\n",
       "      <td>Mark R. Levin</td>\n",
       "      <td>13.54</td>\n",
       "      <td>4.8 out of 5 stars</td>\n",
       "      <td>5,063</td>\n",
       "      <td>Hardcover</td>\n",
       "      <td>2009</td>\n",
       "    </tr>\n",
       "    <tr>\n",
       "      <th>3</th>\n",
       "      <td>Breaking Dawn (The Twilight Saga, Book 4)</td>\n",
       "      <td>Stephenie Meyer</td>\n",
       "      <td>19.48</td>\n",
       "      <td>4.7 out of 5 stars</td>\n",
       "      <td>17,738</td>\n",
       "      <td>Hardcover</td>\n",
       "      <td>2009</td>\n",
       "    </tr>\n",
       "    <tr>\n",
       "      <th>4</th>\n",
       "      <td>Going Rogue: An American Life</td>\n",
       "      <td>Sarah Palin</td>\n",
       "      <td>9.54</td>\n",
       "      <td>4.6 out of 5 stars</td>\n",
       "      <td>1,572</td>\n",
       "      <td>Hardcover</td>\n",
       "      <td>2009</td>\n",
       "    </tr>\n",
       "  </tbody>\n",
       "</table>\n",
       "</div>"
      ],
      "text/plain": [
       "                                           Title            Author  Price($)  \\\n",
       "0                                The Lost Symbol         Dan Brown     14.20   \n",
       "1    The Shack: Where Tragedy Confronts Eternity  William P. Young     10.43   \n",
       "2  Liberty and Tyranny: A Conservative Manifesto     Mark R. Levin     13.54   \n",
       "3      Breaking Dawn (The Twilight Saga, Book 4)   Stephenie Meyer     19.48   \n",
       "4                  Going Rogue: An American Life       Sarah Palin      9.54   \n",
       "\n",
       "               Rating ReviewCount      Cover  Year  \n",
       "0  4.4 out of 5 stars      17,092  Hardcover  2009  \n",
       "1  4.7 out of 5 stars      23,923  Paperback  2009  \n",
       "2  4.8 out of 5 stars       5,063  Hardcover  2009  \n",
       "3  4.7 out of 5 stars      17,738  Hardcover  2009  \n",
       "4  4.6 out of 5 stars       1,572  Hardcover  2009  "
      ]
     },
     "execution_count": 71,
     "metadata": {},
     "output_type": "execute_result"
    }
   ],
   "source": [
    "# first 5 data\n",
    "combined_data.head()"
   ]
  },
  {
   "cell_type": "code",
   "execution_count": 72,
   "id": "26cdadcf-f62f-4e8f-b3ac-9d1988da0f99",
   "metadata": {},
   "outputs": [
    {
     "data": {
      "text/html": [
       "<div>\n",
       "<style scoped>\n",
       "    .dataframe tbody tr th:only-of-type {\n",
       "        vertical-align: middle;\n",
       "    }\n",
       "\n",
       "    .dataframe tbody tr th {\n",
       "        vertical-align: top;\n",
       "    }\n",
       "\n",
       "    .dataframe thead th {\n",
       "        text-align: right;\n",
       "    }\n",
       "</style>\n",
       "<table border=\"1\" class=\"dataframe\">\n",
       "  <thead>\n",
       "    <tr style=\"text-align: right;\">\n",
       "      <th></th>\n",
       "      <th>Title</th>\n",
       "      <th>Author</th>\n",
       "      <th>Price($)</th>\n",
       "      <th>Rating</th>\n",
       "      <th>ReviewCount</th>\n",
       "      <th>Cover</th>\n",
       "      <th>Year</th>\n",
       "    </tr>\n",
       "  </thead>\n",
       "  <tbody>\n",
       "    <tr>\n",
       "      <th>325</th>\n",
       "      <td>Howard Stern Comes Again</td>\n",
       "      <td>Howard Stern</td>\n",
       "      <td>17.50</td>\n",
       "      <td>4.5 out of 5 stars</td>\n",
       "      <td>8,026</td>\n",
       "      <td>Hardcover</td>\n",
       "      <td>2019</td>\n",
       "    </tr>\n",
       "    <tr>\n",
       "      <th>326</th>\n",
       "      <td>Guts: A Graphic Novel</td>\n",
       "      <td>Raina Telgemeier</td>\n",
       "      <td>6.24</td>\n",
       "      <td>4.8 out of 5 stars</td>\n",
       "      <td>12,487</td>\n",
       "      <td>Paperback</td>\n",
       "      <td>2019</td>\n",
       "    </tr>\n",
       "    <tr>\n",
       "      <th>327</th>\n",
       "      <td>The Life-Changing Magic of Tidying Up: The Jap...</td>\n",
       "      <td>Marie Kondō</td>\n",
       "      <td>8.87</td>\n",
       "      <td>4.5 out of 5 stars</td>\n",
       "      <td>Marie Kondō</td>\n",
       "      <td>Hardcover</td>\n",
       "      <td>2019</td>\n",
       "    </tr>\n",
       "    <tr>\n",
       "      <th>328</th>\n",
       "      <td>Harry Potter and the Goblet of Fire: The Illus...</td>\n",
       "      <td>J. K. Rowling</td>\n",
       "      <td>29.98</td>\n",
       "      <td>4.9 out of 5 stars</td>\n",
       "      <td>25,676</td>\n",
       "      <td>Hardcover</td>\n",
       "      <td>2019</td>\n",
       "    </tr>\n",
       "    <tr>\n",
       "      <th>329</th>\n",
       "      <td>National Geographic Little Kids First Big Book...</td>\n",
       "      <td>Amy Shields</td>\n",
       "      <td>13.33</td>\n",
       "      <td>4.8 out of 5 stars</td>\n",
       "      <td>18,372</td>\n",
       "      <td>Hardcover</td>\n",
       "      <td>2019</td>\n",
       "    </tr>\n",
       "  </tbody>\n",
       "</table>\n",
       "</div>"
      ],
      "text/plain": [
       "                                                 Title            Author  \\\n",
       "325                           Howard Stern Comes Again      Howard Stern   \n",
       "326                              Guts: A Graphic Novel  Raina Telgemeier   \n",
       "327  The Life-Changing Magic of Tidying Up: The Jap...       Marie Kondō   \n",
       "328  Harry Potter and the Goblet of Fire: The Illus...     J. K. Rowling   \n",
       "329  National Geographic Little Kids First Big Book...       Amy Shields   \n",
       "\n",
       "     Price($)              Rating  ReviewCount      Cover  Year  \n",
       "325     17.50  4.5 out of 5 stars        8,026  Hardcover  2019  \n",
       "326      6.24  4.8 out of 5 stars       12,487  Paperback  2019  \n",
       "327      8.87  4.5 out of 5 stars  Marie Kondō  Hardcover  2019  \n",
       "328     29.98  4.9 out of 5 stars       25,676  Hardcover  2019  \n",
       "329     13.33  4.8 out of 5 stars       18,372  Hardcover  2019  "
      ]
     },
     "execution_count": 72,
     "metadata": {},
     "output_type": "execute_result"
    }
   ],
   "source": [
    "combined_data.tail()"
   ]
  },
  {
   "cell_type": "code",
   "execution_count": 81,
   "id": "71cb75cd-9849-4b87-a377-f0f9820ec167",
   "metadata": {},
   "outputs": [
    {
     "data": {
      "text/plain": [
       "Title           1\n",
       "Author          1\n",
       "Price($)       15\n",
       "Rating          0\n",
       "ReviewCount     0\n",
       "Cover           0\n",
       "Year            0\n",
       "dtype: int64"
      ]
     },
     "execution_count": 81,
     "metadata": {},
     "output_type": "execute_result"
    }
   ],
   "source": [
    "# finding null values\n",
    "combined_data.isnull().sum()"
   ]
  },
  {
   "cell_type": "code",
   "execution_count": 84,
   "id": "956a7bed-a1a5-426e-bd21-f4df2b298f90",
   "metadata": {},
   "outputs": [
    {
     "data": {
      "text/plain": [
       "187"
      ]
     },
     "execution_count": 84,
     "metadata": {},
     "output_type": "execute_result"
    }
   ],
   "source": [
    "combined_data['Price($)'].nunique()"
   ]
  },
  {
   "cell_type": "code",
   "execution_count": 87,
   "id": "eacc30d8-98dd-4379-a343-b2b23fd1458b",
   "metadata": {},
   "outputs": [
    {
     "data": {
      "text/html": [
       "<div>\n",
       "<style scoped>\n",
       "    .dataframe tbody tr th:only-of-type {\n",
       "        vertical-align: middle;\n",
       "    }\n",
       "\n",
       "    .dataframe tbody tr th {\n",
       "        vertical-align: top;\n",
       "    }\n",
       "\n",
       "    .dataframe thead th {\n",
       "        text-align: right;\n",
       "    }\n",
       "</style>\n",
       "<table border=\"1\" class=\"dataframe\">\n",
       "  <thead>\n",
       "    <tr style=\"text-align: right;\">\n",
       "      <th></th>\n",
       "      <th>Title</th>\n",
       "      <th>Author</th>\n",
       "      <th>Price($)</th>\n",
       "      <th>Rating</th>\n",
       "      <th>ReviewCount</th>\n",
       "      <th>Cover</th>\n",
       "      <th>Year</th>\n",
       "    </tr>\n",
       "  </thead>\n",
       "  <tbody>\n",
       "    <tr>\n",
       "      <th>12</th>\n",
       "      <td>Glenn Beck's Common Sense: The Case Against an...</td>\n",
       "      <td>Glenn Beck</td>\n",
       "      <td>NaN</td>\n",
       "      <td>4.5 out of 5 stars</td>\n",
       "      <td>1,422</td>\n",
       "      <td>Paperback</td>\n",
       "      <td>2009</td>\n",
       "    </tr>\n",
       "    <tr>\n",
       "      <th>48</th>\n",
       "      <td>Life</td>\n",
       "      <td>Keith Richards</td>\n",
       "      <td>NaN</td>\n",
       "      <td>4.6 out of 5 stars</td>\n",
       "      <td>4,901</td>\n",
       "      <td>Hardcover</td>\n",
       "      <td>2010</td>\n",
       "    </tr>\n",
       "    <tr>\n",
       "      <th>51</th>\n",
       "      <td>The Official SAT Study Guide</td>\n",
       "      <td>The College Board</td>\n",
       "      <td>NaN</td>\n",
       "      <td>4.4 out of 5 stars</td>\n",
       "      <td>The College Board</td>\n",
       "      <td>Paperback</td>\n",
       "      <td>2010</td>\n",
       "    </tr>\n",
       "    <tr>\n",
       "      <th>79</th>\n",
       "      <td>The Official SAT Study Guide</td>\n",
       "      <td>The College Board</td>\n",
       "      <td>NaN</td>\n",
       "      <td>4.4 out of 5 stars</td>\n",
       "      <td>The College Board</td>\n",
       "      <td>Paperback</td>\n",
       "      <td>2011</td>\n",
       "    </tr>\n",
       "    <tr>\n",
       "      <th>86</th>\n",
       "      <td>The 5 Love Languages: The Secret to Love That ...</td>\n",
       "      <td>Gary Chapman</td>\n",
       "      <td>NaN</td>\n",
       "      <td>4.7 out of 5 stars</td>\n",
       "      <td>4,890</td>\n",
       "      <td>Paperback</td>\n",
       "      <td>2011</td>\n",
       "    </tr>\n",
       "    <tr>\n",
       "      <th>103</th>\n",
       "      <td>The Official SAT Study Guide</td>\n",
       "      <td>The College Board</td>\n",
       "      <td>NaN</td>\n",
       "      <td>4.4 out of 5 stars</td>\n",
       "      <td>The College Board</td>\n",
       "      <td>Paperback</td>\n",
       "      <td>2012</td>\n",
       "    </tr>\n",
       "    <tr>\n",
       "      <th>110</th>\n",
       "      <td>The 5 Love Languages: The Secret to Love That ...</td>\n",
       "      <td>Gary Chapman</td>\n",
       "      <td>NaN</td>\n",
       "      <td>4.7 out of 5 stars</td>\n",
       "      <td>4,890</td>\n",
       "      <td>Paperback</td>\n",
       "      <td>2012</td>\n",
       "    </tr>\n",
       "    <tr>\n",
       "      <th>132</th>\n",
       "      <td>The Official SAT Study Guide</td>\n",
       "      <td>The College Board</td>\n",
       "      <td>NaN</td>\n",
       "      <td>4.4 out of 5 stars</td>\n",
       "      <td>The College Board</td>\n",
       "      <td>Paperback</td>\n",
       "      <td>2013</td>\n",
       "    </tr>\n",
       "    <tr>\n",
       "      <th>136</th>\n",
       "      <td>The 5 Love Languages: The Secret to Love That ...</td>\n",
       "      <td>Gary Chapman</td>\n",
       "      <td>NaN</td>\n",
       "      <td>4.7 out of 5 stars</td>\n",
       "      <td>4,890</td>\n",
       "      <td>Paperback</td>\n",
       "      <td>2013</td>\n",
       "    </tr>\n",
       "    <tr>\n",
       "      <th>151</th>\n",
       "      <td>Frozen (Little Golden Book)</td>\n",
       "      <td>RH Disney</td>\n",
       "      <td>NaN</td>\n",
       "      <td>4.8 out of 5 stars</td>\n",
       "      <td>RH Disney</td>\n",
       "      <td>Hardcover</td>\n",
       "      <td>2014</td>\n",
       "    </tr>\n",
       "    <tr>\n",
       "      <th>167</th>\n",
       "      <td>The Official SAT Study Guide</td>\n",
       "      <td>The College Board</td>\n",
       "      <td>NaN</td>\n",
       "      <td>4.4 out of 5 stars</td>\n",
       "      <td>The College Board</td>\n",
       "      <td>Paperback</td>\n",
       "      <td>2014</td>\n",
       "    </tr>\n",
       "    <tr>\n",
       "      <th>174</th>\n",
       "      <td>The 5 Love Languages: The Secret to Love That ...</td>\n",
       "      <td>Gary Chapman</td>\n",
       "      <td>NaN</td>\n",
       "      <td>4.7 out of 5 stars</td>\n",
       "      <td>4,890</td>\n",
       "      <td>Paperback</td>\n",
       "      <td>2014</td>\n",
       "    </tr>\n",
       "    <tr>\n",
       "      <th>176</th>\n",
       "      <td>JOURNEY TO THE ICE P</td>\n",
       "      <td>RH Disney</td>\n",
       "      <td>NaN</td>\n",
       "      <td>4.6 out of 5 stars</td>\n",
       "      <td>1,093</td>\n",
       "      <td>Paperback</td>\n",
       "      <td>2014</td>\n",
       "    </tr>\n",
       "    <tr>\n",
       "      <th>178</th>\n",
       "      <td>Little Blue Truck</td>\n",
       "      <td>Alice Schertle</td>\n",
       "      <td>NaN</td>\n",
       "      <td>4.9 out of 5 stars</td>\n",
       "      <td>1,959</td>\n",
       "      <td>Board book</td>\n",
       "      <td>2014</td>\n",
       "    </tr>\n",
       "    <tr>\n",
       "      <th>232</th>\n",
       "      <td>NaN</td>\n",
       "      <td>NaN</td>\n",
       "      <td>8.99</td>\n",
       "      <td>4.5 out of 5 stars</td>\n",
       "      <td>3,132</td>\n",
       "      <td>Paperback</td>\n",
       "      <td>2016</td>\n",
       "    </tr>\n",
       "    <tr>\n",
       "      <th>239</th>\n",
       "      <td>The 7 Habits of Highly Effective People: Power...</td>\n",
       "      <td>Stephen R. Covey</td>\n",
       "      <td>NaN</td>\n",
       "      <td>4.7 out of 5 stars</td>\n",
       "      <td>9,303</td>\n",
       "      <td>Paperback</td>\n",
       "      <td>2016</td>\n",
       "    </tr>\n",
       "  </tbody>\n",
       "</table>\n",
       "</div>"
      ],
      "text/plain": [
       "                                                 Title             Author  \\\n",
       "12   Glenn Beck's Common Sense: The Case Against an...         Glenn Beck   \n",
       "48                                                Life     Keith Richards   \n",
       "51                        The Official SAT Study Guide  The College Board   \n",
       "79                        The Official SAT Study Guide  The College Board   \n",
       "86   The 5 Love Languages: The Secret to Love That ...       Gary Chapman   \n",
       "103                       The Official SAT Study Guide  The College Board   \n",
       "110  The 5 Love Languages: The Secret to Love That ...       Gary Chapman   \n",
       "132                       The Official SAT Study Guide  The College Board   \n",
       "136  The 5 Love Languages: The Secret to Love That ...       Gary Chapman   \n",
       "151                        Frozen (Little Golden Book)          RH Disney   \n",
       "167                       The Official SAT Study Guide  The College Board   \n",
       "174  The 5 Love Languages: The Secret to Love That ...       Gary Chapman   \n",
       "176                               JOURNEY TO THE ICE P          RH Disney   \n",
       "178                                  Little Blue Truck     Alice Schertle   \n",
       "232                                                NaN                NaN   \n",
       "239  The 7 Habits of Highly Effective People: Power...   Stephen R. Covey   \n",
       "\n",
       "     Price($)              Rating        ReviewCount       Cover  Year  \n",
       "12        NaN  4.5 out of 5 stars              1,422   Paperback  2009  \n",
       "48        NaN  4.6 out of 5 stars              4,901   Hardcover  2010  \n",
       "51        NaN  4.4 out of 5 stars  The College Board   Paperback  2010  \n",
       "79        NaN  4.4 out of 5 stars  The College Board   Paperback  2011  \n",
       "86        NaN  4.7 out of 5 stars              4,890   Paperback  2011  \n",
       "103       NaN  4.4 out of 5 stars  The College Board   Paperback  2012  \n",
       "110       NaN  4.7 out of 5 stars              4,890   Paperback  2012  \n",
       "132       NaN  4.4 out of 5 stars  The College Board   Paperback  2013  \n",
       "136       NaN  4.7 out of 5 stars              4,890   Paperback  2013  \n",
       "151       NaN  4.8 out of 5 stars          RH Disney   Hardcover  2014  \n",
       "167       NaN  4.4 out of 5 stars  The College Board   Paperback  2014  \n",
       "174       NaN  4.7 out of 5 stars              4,890   Paperback  2014  \n",
       "176       NaN  4.6 out of 5 stars              1,093   Paperback  2014  \n",
       "178       NaN  4.9 out of 5 stars              1,959  Board book  2014  \n",
       "232      8.99  4.5 out of 5 stars              3,132   Paperback  2016  \n",
       "239       NaN  4.7 out of 5 stars              9,303   Paperback  2016  "
      ]
     },
     "execution_count": 87,
     "metadata": {},
     "output_type": "execute_result"
    }
   ],
   "source": [
    "# accessing null values to see their nature\n",
    "combined_data.loc[combined_data.isnull().any(axis = 1)]"
   ]
  },
  {
   "cell_type": "code",
   "execution_count": null,
   "id": "c3eab877-8a2d-443f-96f1-9dd90050faf9",
   "metadata": {},
   "outputs": [
    {
     "data": {
      "text/plain": [
       "<AxesSubplot:>"
      ]
     },
     "execution_count": 88,
     "metadata": {},
     "output_type": "execute_result"
    },
    {
     "data": {
      "image/png": "[encoded data removed]",
      "text/plain": [
       "<Figure size 432x288 with 2 Axes>"
      ]
     },
     "metadata": {
      "needs_background": "light"
     },
     "output_type": "display_data"
    }
   ],
   "source": [
    "sns.heatmap(combined_data.isnull)"
   ]
  },
  {
   "cell_type": "markdown",
   "id": "ee34e030-24f7-436c-8886-ad8c8b162d46",
   "metadata": {},
   "source": [
    "### Univariate Analysis"
   ]
  },
  {
   "cell_type": "markdown",
   "id": "bb56a162-0966-4f5d-a4d9-7cf9cbea1723",
   "metadata": {},
   "source": [
    "### Analysis of Authors"
   ]
  },
  {
   "cell_type": "markdown",
   "id": "51d6a5fc-8ab6-420d-840a-8eebf1e8c4b3",
   "metadata": {},
   "source": [
    "#### Author with most books sold in 2009"
   ]
  },
  {
   "cell_type": "code",
   "execution_count": 99,
   "id": "0ab91fd2-3eb4-4afc-b2e3-5314ccb3ba06",
   "metadata": {},
   "outputs": [
    {
     "data": {
      "text/html": [
       "<div>\n",
       "<style scoped>\n",
       "    .dataframe tbody tr th:only-of-type {\n",
       "        vertical-align: middle;\n",
       "    }\n",
       "\n",
       "    .dataframe tbody tr th {\n",
       "        vertical-align: top;\n",
       "    }\n",
       "\n",
       "    .dataframe thead th {\n",
       "        text-align: right;\n",
       "    }\n",
       "</style>\n",
       "<table border=\"1\" class=\"dataframe\">\n",
       "  <thead>\n",
       "    <tr style=\"text-align: right;\">\n",
       "      <th></th>\n",
       "      <th>Author</th>\n",
       "    </tr>\n",
       "  </thead>\n",
       "  <tbody>\n",
       "    <tr>\n",
       "      <th>Jeff Kinney</th>\n",
       "      <td>11</td>\n",
       "    </tr>\n",
       "    <tr>\n",
       "      <th>Suzanne Collins</th>\n",
       "      <td>10</td>\n",
       "    </tr>\n",
       "    <tr>\n",
       "      <th>Gallup</th>\n",
       "      <td>9</td>\n",
       "    </tr>\n",
       "    <tr>\n",
       "      <th>Gary Chapman</th>\n",
       "      <td>9</td>\n",
       "    </tr>\n",
       "    <tr>\n",
       "      <th>Stephenie Meyer</th>\n",
       "      <td>7</td>\n",
       "    </tr>\n",
       "    <tr>\n",
       "      <th>Dr. Seuss</th>\n",
       "      <td>7</td>\n",
       "    </tr>\n",
       "    <tr>\n",
       "      <th>Rob Elliott</th>\n",
       "      <td>7</td>\n",
       "    </tr>\n",
       "    <tr>\n",
       "      <th>American Psychological Association</th>\n",
       "      <td>6</td>\n",
       "    </tr>\n",
       "    <tr>\n",
       "      <th>The College Board</th>\n",
       "      <td>6</td>\n",
       "    </tr>\n",
       "    <tr>\n",
       "      <th>E L James</th>\n",
       "      <td>5</td>\n",
       "    </tr>\n",
       "    <tr>\n",
       "      <th>Stieg Larsson</th>\n",
       "      <td>5</td>\n",
       "    </tr>\n",
       "    <tr>\n",
       "      <th>Rick Riordan</th>\n",
       "      <td>5</td>\n",
       "    </tr>\n",
       "    <tr>\n",
       "      <th>Bill O'Reilly</th>\n",
       "      <td>5</td>\n",
       "    </tr>\n",
       "    <tr>\n",
       "      <th>Sarah Young</th>\n",
       "      <td>4</td>\n",
       "    </tr>\n",
       "    <tr>\n",
       "      <th>Dav Pilkey</th>\n",
       "      <td>4</td>\n",
       "    </tr>\n",
       "  </tbody>\n",
       "</table>\n",
       "</div>"
      ],
      "text/plain": [
       "                                    Author\n",
       "Jeff Kinney                             11\n",
       "Suzanne Collins                         10\n",
       "Gallup                                   9\n",
       "Gary Chapman                             9\n",
       "Stephenie Meyer                          7\n",
       "Dr. Seuss                                7\n",
       "Rob Elliott                              7\n",
       "American Psychological Association       6\n",
       "The College Board                        6\n",
       "E L James                                5\n",
       "Stieg Larsson                            5\n",
       "Rick Riordan                             5\n",
       "Bill O'Reilly                            5\n",
       "Sarah Young                              4\n",
       "Dav Pilkey                               4"
      ]
     },
     "execution_count": 99,
     "metadata": {},
     "output_type": "execute_result"
    }
   ],
   "source": [
    "#authors with most books in list in the years\n",
    "books = combined_data['Author'].value_counts().to_frame()\n",
    "books = books.head(15)\n",
    "books"
   ]
  },
  {
   "cell_type": "markdown",
   "id": "0d4cf7bf-dbda-489a-8a8b-5b8c7708bd4e",
   "metadata": {},
   "source": [
    "#### Total number of authors"
   ]
  },
  {
   "cell_type": "code",
   "execution_count": 100,
   "id": "1cae19eb-f454-4519-87c6-28e86c79c003",
   "metadata": {},
   "outputs": [
    {
     "data": {
      "text/plain": [
       "157"
      ]
     },
     "execution_count": 100,
     "metadata": {},
     "output_type": "execute_result"
    }
   ],
   "source": [
    "combined_data['Author'].nunique()"
   ]
  },
  {
   "cell_type": "code",
   "execution_count": 150,
   "id": "43ce21a5-e23a-414d-9ab7-0cd4f423f3ac",
   "metadata": {},
   "outputs": [],
   "source": [
    "grouped_authors = combined_data.groupby('Year')['Author'].value_counts().to_frame()"
   ]
  },
  {
   "cell_type": "code",
   "execution_count": 152,
   "id": "6e2587e7-6152-456e-987d-7f630cbe836a",
   "metadata": {},
   "outputs": [
    {
     "data": {
      "text/html": [
       "<div>\n",
       "<style scoped>\n",
       "    .dataframe tbody tr th:only-of-type {\n",
       "        vertical-align: middle;\n",
       "    }\n",
       "\n",
       "    .dataframe tbody tr th {\n",
       "        vertical-align: top;\n",
       "    }\n",
       "\n",
       "    .dataframe thead th {\n",
       "        text-align: right;\n",
       "    }\n",
       "</style>\n",
       "<table border=\"1\" class=\"dataframe\">\n",
       "  <thead>\n",
       "    <tr style=\"text-align: right;\">\n",
       "      <th></th>\n",
       "      <th></th>\n",
       "      <th>Author</th>\n",
       "    </tr>\n",
       "    <tr>\n",
       "      <th>Year</th>\n",
       "      <th>Author</th>\n",
       "      <th></th>\n",
       "    </tr>\n",
       "  </thead>\n",
       "  <tbody>\n",
       "    <tr>\n",
       "      <th rowspan=\"5\" valign=\"top\">2009</th>\n",
       "      <th>Stephenie Meyer</th>\n",
       "      <td>6</td>\n",
       "    </tr>\n",
       "    <tr>\n",
       "      <th>Glenn Beck</th>\n",
       "      <td>2</td>\n",
       "    </tr>\n",
       "    <tr>\n",
       "      <th>American Psychological Association</th>\n",
       "      <td>1</td>\n",
       "    </tr>\n",
       "    <tr>\n",
       "      <th>Audrey Niffenegger</th>\n",
       "      <td>1</td>\n",
       "    </tr>\n",
       "    <tr>\n",
       "      <th>Charlaine Harris</th>\n",
       "      <td>1</td>\n",
       "    </tr>\n",
       "    <tr>\n",
       "      <th>...</th>\n",
       "      <th>...</th>\n",
       "      <td>...</td>\n",
       "    </tr>\n",
       "    <tr>\n",
       "      <th rowspan=\"5\" valign=\"top\">2019</th>\n",
       "      <th>Michelle Obama</th>\n",
       "      <td>1</td>\n",
       "    </tr>\n",
       "    <tr>\n",
       "      <th>Raina Telgemeier</th>\n",
       "      <td>1</td>\n",
       "    </tr>\n",
       "    <tr>\n",
       "      <th>Samin Nosrat</th>\n",
       "      <td>1</td>\n",
       "    </tr>\n",
       "    <tr>\n",
       "      <th>School Zone</th>\n",
       "      <td>1</td>\n",
       "    </tr>\n",
       "    <tr>\n",
       "      <th>Tara Westover</th>\n",
       "      <td>1</td>\n",
       "    </tr>\n",
       "  </tbody>\n",
       "</table>\n",
       "<p>294 rows × 1 columns</p>\n",
       "</div>"
      ],
      "text/plain": [
       "                                         Author\n",
       "Year Author                                    \n",
       "2009 Stephenie Meyer                          6\n",
       "     Glenn Beck                               2\n",
       "     American Psychological Association       1\n",
       "     Audrey Niffenegger                       1\n",
       "     Charlaine Harris                         1\n",
       "...                                         ...\n",
       "2019 Michelle Obama                           1\n",
       "     Raina Telgemeier                         1\n",
       "     Samin Nosrat                             1\n",
       "     School Zone                              1\n",
       "     Tara Westover                            1\n",
       "\n",
       "[294 rows x 1 columns]"
      ]
     },
     "execution_count": 152,
     "metadata": {},
     "output_type": "execute_result"
    }
   ],
   "source": [
    "grouped_authors"
   ]
  },
  {
   "cell_type": "code",
   "execution_count": null,
   "id": "82e7f4ae-f54c-46de-b55f-1f2cf263a1d7",
   "metadata": {},
   "outputs": [],
   "source": []
  },
  {
   "cell_type": "code",
   "execution_count": null,
   "id": "463c0337-0dbc-490a-b5d6-f55b386109a5",
   "metadata": {},
   "outputs": [],
   "source": []
  }
 ],
 "metadata": {
  "kernelspec": {
   "display_name": "Python 3 (ipykernel)",
   "language": "python",
   "name": "python3"
  },
  "language_info": {
   "codemirror_mode": {
    "name": "ipython",
    "version": 3
   },
   "file_extension": ".py",
   "mimetype": "text/x-python",
   "name": "python",
   "nbconvert_exporter": "python",
   "pygments_lexer": "ipython3",
   "version": "3.10.5"
  }
 },
 "nbformat": 4,
 "nbformat_minor": 5
}
